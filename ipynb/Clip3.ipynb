{
 "cells": [
  {
   "cell_type": "code",
   "execution_count": 1,
   "id": "d44bdb8d-f727-4d94-aabb-ab005d7fa33c",
   "metadata": {},
   "outputs": [
    {
     "name": "stdout",
     "output_type": "stream",
     "text": [
      "Jupyter environment detected. Enabling Open3D WebVisualizer.\n",
      "[Open3D INFO] WebRTC GUI backend enabled.\n",
      "[Open3D INFO] WebRTCWindowSystem: HTTP handshake server disabled.\n"
     ]
    }
   ],
   "source": [
    "import open3d as o3d\n",
    "import numpy as np"
   ]
  },
  {
   "cell_type": "markdown",
   "id": "28a750cb-804f-41fd-b841-e6b3fd76f370",
   "metadata": {},
   "source": [
    "# iphone 7 & kota circuit"
   ]
  },
  {
   "cell_type": "code",
   "execution_count": 2,
   "id": "b46934e4-cec4-4c58-9153-707ceb78f7d3",
   "metadata": {},
   "outputs": [],
   "source": [
    "# pcd = o3d.io.read_point_cloud(\"./iphone7.ply\")"
   ]
  },
  {
   "cell_type": "code",
   "execution_count": 141,
   "id": "599742dc-00db-4bdd-897e-5add75cc2eab",
   "metadata": {},
   "outputs": [
    {
     "name": "stdout",
     "output_type": "stream",
     "text": [
      "[Open3D WARNING] GLFW Error: WGL: Failed to make context current: The requested transformation operation is not supported. \n"
     ]
    }
   ],
   "source": [
    "# large Kota circuit\n",
    "pcd = o3d.io.read_point_cloud(\"./kota_circuit2.ply\")\n",
    "o3d.visualization.draw_geometries_with_editing([pcd])"
   ]
  },
  {
   "cell_type": "code",
   "execution_count": 142,
   "id": "c041bb11-a26a-47cc-82c4-5e878eea5c47",
   "metadata": {},
   "outputs": [],
   "source": [
    "pcd = o3d.io.read_point_cloud(\"./cropped_1.ply\")\n",
    "pcd.estimate_normals(\n",
    "    search_param=o3d.geometry.KDTreeSearchParamHybrid(radius=0.4, max_nn=100))\n",
    "o3d.visualization.draw_geometries([pcd])"
   ]
  },
  {
   "cell_type": "code",
   "execution_count": 143,
   "id": "47c46908-a689-4861-a692-369c02bec506",
   "metadata": {},
   "outputs": [],
   "source": [
    "points = np.asarray(pcd.points)\n",
    "normals = np.asarray(pcd.normals)\n",
    "colors = np.asarray(pcd.colors)"
   ]
  },
  {
   "cell_type": "code",
   "execution_count": 133,
   "id": "1e534760-167a-4034-b845-36b03385e0a5",
   "metadata": {},
   "outputs": [],
   "source": [
    "# print(points)\n",
    "# print(colors)\n",
    "# print(normals)"
   ]
  },
  {
   "cell_type": "code",
   "execution_count": 146,
   "id": "026fad9f-8e42-4e10-ac50-f2f36412761c",
   "metadata": {},
   "outputs": [],
   "source": [
    "for i in range(len(normals)):\n",
    "    if (normals[i][2] >= 0.95):\n",
    "        colors[i][0]= 0.92\n",
    "        colors[i][1]= 0.04\n",
    "        colors[i][2]= 0.89"
   ]
  },
  {
   "cell_type": "code",
   "execution_count": 147,
   "id": "e60b9ecf-c7e6-4993-a81c-9337657f0fad",
   "metadata": {},
   "outputs": [
    {
     "name": "stdout",
     "output_type": "stream",
     "text": [
      "[Open3D WARNING] GLFW Error: WGL: Failed to make context current: The requested transformation operation is not supported. \n",
      "[Open3D WARNING] GLFW Error: WGL: Failed to make context current: The requested transformation operation is not supported. \n",
      "[Open3D WARNING] GLFW Error: WGL: Failed to make context current: The requested transformation operation is not supported. \n"
     ]
    }
   ],
   "source": [
    "pcd.colors = o3d.utility.Vector3dVector(colors)\n",
    "o3d.visualization.draw_geometries([pcd])"
   ]
  },
  {
   "cell_type": "code",
   "execution_count": null,
   "id": "5586187d-d5cd-46fc-b28f-8a23551b67fd",
   "metadata": {},
   "outputs": [],
   "source": []
  }
 ],
 "metadata": {
  "kernelspec": {
   "display_name": "Python 3 (ipykernel)",
   "language": "python",
   "name": "python3"
  },
  "language_info": {
   "codemirror_mode": {
    "name": "ipython",
    "version": 3
   },
   "file_extension": ".py",
   "mimetype": "text/x-python",
   "name": "python",
   "nbconvert_exporter": "python",
   "pygments_lexer": "ipython3",
   "version": "3.10.11"
  }
 },
 "nbformat": 4,
 "nbformat_minor": 5
}
