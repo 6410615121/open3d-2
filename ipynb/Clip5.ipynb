{
 "cells": [
  {
   "cell_type": "code",
   "execution_count": 9,
   "id": "d44bdb8d-f727-4d94-aabb-ab005d7fa33c",
   "metadata": {},
   "outputs": [],
   "source": [
    "import open3d as o3d\n",
    "import numpy as np\n",
    "import colorsys"
   ]
  },
  {
   "cell_type": "markdown",
   "id": "28a750cb-804f-41fd-b841-e6b3fd76f370",
   "metadata": {},
   "source": [
    "# iphone 7 & kota circuit"
   ]
  },
  {
   "cell_type": "code",
   "execution_count": 2,
   "id": "b46934e4-cec4-4c58-9153-707ceb78f7d3",
   "metadata": {},
   "outputs": [],
   "source": [
    "# pcd = o3d.io.read_point_cloud(\"./iphone7.ply\")"
   ]
  },
  {
   "cell_type": "code",
   "execution_count": 27,
   "id": "599742dc-00db-4bdd-897e-5add75cc2eab",
   "metadata": {},
   "outputs": [],
   "source": [
    "# # large Kota circuit\n",
    "# pcd = o3d.io.read_point_cloud(\"../ply/kota_circuit2.ply\")\n",
    "# o3d.visualization.draw_geometries_with_editing([pcd])"
   ]
  },
  {
   "cell_type": "code",
   "execution_count": 10,
   "id": "c041bb11-a26a-47cc-82c4-5e878eea5c47",
   "metadata": {},
   "outputs": [],
   "source": [
    "pcd = o3d.io.read_point_cloud(\"../ply/cropped_kota.ply\")\n",
    "downpcd = pcd.voxel_down_sample(voxel_size=0.5)\n",
    "\n",
    "# pcd = o3d.io.read_point_cloud(\"../ply/cropped_kota.ply\")\n",
    "downpcd.estimate_normals(\n",
    "    search_param=o3d.geometry.KDTreeSearchParamHybrid(radius=1, max_nn=100))"
   ]
  },
  {
   "cell_type": "code",
   "execution_count": 11,
   "id": "ceddcfd9-ee56-4260-b187-87a05dc087c9",
   "metadata": {},
   "outputs": [],
   "source": [
    "o3d.visualization.draw_geometries([downpcd])"
   ]
  },
  {
   "cell_type": "code",
   "execution_count": 12,
   "id": "47c46908-a689-4861-a692-369c02bec506",
   "metadata": {},
   "outputs": [],
   "source": [
    "points = np.asarray(downpcd.points)\n",
    "normals = np.asarray(downpcd.normals)\n",
    "colors = np.asarray(downpcd.colors)"
   ]
  },
  {
   "cell_type": "code",
   "execution_count": 121,
   "id": "1e534760-167a-4034-b845-36b03385e0a5",
   "metadata": {},
   "outputs": [
    {
     "name": "stdout",
     "output_type": "stream",
     "text": [
      "[-21.0791585  205.35949167 -93.66406775]\n"
     ]
    }
   ],
   "source": [
    "# print(points)\n",
    "# print(colors)\n",
    "# print(normals)"
   ]
  },
  {
   "cell_type": "code",
   "execution_count": 13,
   "id": "026fad9f-8e42-4e10-ac50-f2f36412761c",
   "metadata": {},
   "outputs": [],
   "source": [
    "for i in range(len(normals)):\n",
    "    r = colors[i][0]\n",
    "    g = colors[i][1]\n",
    "    b = colors[i][2]\n",
    "    h, s, v = colorsys.rgb_to_hsv(r, g, b)\n",
    "\n",
    "    cond1 = normals[i][2] >= 0.95\n",
    "    cond2 = not (h >= 80/360*100 and h <= 140/360*100)\n",
    "    cond3 = (s >= 0 and s <= 15/100)\n",
    "    \n",
    "    if (cond1 and cond2 and cond3):\n",
    "        colors[i][0]= 0.92\n",
    "        colors[i][1]= 0.04\n",
    "        colors[i][2]= 0.89"
   ]
  },
  {
   "cell_type": "code",
   "execution_count": null,
   "id": "e60b9ecf-c7e6-4993-a81c-9337657f0fad",
   "metadata": {},
   "outputs": [],
   "source": [
    "downpcd.colors = o3d.utility.Vector3dVector(colors)\n",
    "o3d.visualization.draw_geometries([downpcd])"
   ]
  },
  {
   "cell_type": "code",
   "execution_count": null,
   "id": "d894870e-ab1c-4931-9c79-3117f8f64749",
   "metadata": {},
   "outputs": [],
   "source": []
  }
 ],
 "metadata": {
  "kernelspec": {
   "display_name": "Python 3 (ipykernel)",
   "language": "python",
   "name": "python3"
  },
  "language_info": {
   "codemirror_mode": {
    "name": "ipython",
    "version": 3
   },
   "file_extension": ".py",
   "mimetype": "text/x-python",
   "name": "python",
   "nbconvert_exporter": "python",
   "pygments_lexer": "ipython3",
   "version": "3.10.11"
  }
 },
 "nbformat": 4,
 "nbformat_minor": 5
}
